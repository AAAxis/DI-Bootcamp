{
 "cells": [
  {
   "cell_type": "code",
   "execution_count": 1,
   "metadata": {},
   "outputs": [
    {
     "data": {
      "text/plain": [
       "<Figure size 640x480 with 1 Axes>"
      ]
     },
     "metadata": {},
     "output_type": "display_data"
    },
    {
     "data": {
      "text/plain": [
       "([<matplotlib.patches.Wedge at 0x25fa7b6cc48>,\n",
       "  <matplotlib.patches.Wedge at 0x25fa7b6cf88>],\n",
       " [Text(0.6465637441936395, 0.8899187180267095, 'Survived'),\n",
       "  Text(-0.6465637441936395, -0.8899187180267095, 'Not Survived')])"
      ]
     },
     "execution_count": 1,
     "metadata": {},
     "output_type": "execute_result"
    }
   ],
   "source": [
    "import numpy as np\n",
    "import pandas as pd\n",
    "import matplotlib.pyplot as plt\n",
    "\n",
    "titanic_df = pd.read_csv('https://raw.githubusercontent.com/datasciencedojo/datasets/master/titanic.csv')\n",
    "\n",
    "# arr = np.random.randint(100, size=(100))\n",
    "# print(arr)\n",
    "# arr = arr.reshape(2, 50)\n",
    "# print(arr)\n",
    "\n",
    "# x = arr[0]\n",
    "# y = arr[1]\n",
    "# plt.scatter(arr[0], arr[1])\n",
    "# plt.show()\n",
    "\n",
    "# plt.hist(arr[0])\n",
    "# plt.title('First Column')\n",
    "# plt.legend('green')\n",
    "\n",
    "# - Make a histogram of the Fare feature, colored green.\n",
    "\n",
    "titanic_df.plot(x=\"Name\", y=['Fare'], kind='hist', color = 'green')\n",
    "plt.show()\n",
    "\n",
    "# - Produce a similar plot to the pie charts above except instead of splitting the data by gender, split it by Pclass.\n",
    "\n",
    "pClass1 = [30,70]\n",
    "labels = ['Survived','Not Survived']\n",
    "\n",
    "plt.pie(pClass1, labels = labels)\n",
    "\n",
    "# p1_class_survived = len(titanic_df[['Pclass','Survived']].loc[(titanic_df['Survived'] == 1) & (titanic_df['Pclass'] == 1)])\n",
    "# p1_class_not_survived = len(titanic_df[['Pclass','Survived']].loc[(titanic_df['Survived'] == 0) & (titanic_df['Pclass'] == 1)])\n",
    "\n",
    "# - Can you make any observations about these plots that visually correlate the Fare by Survived distribution?\n",
    "# Save that figure as a png file."
   ]
  },
  {
   "cell_type": "code",
   "execution_count": 2,
   "metadata": {},
   "outputs": [],
   "source": [
    "import numpy as np\n",
    "import pandas as pd\n",
    "import matplotlib.pyplot as plt\n",
    "\n",
    "titanic_df = pd.read_csv('https://raw.githubusercontent.com/datasciencedojo/datasets/master/titanic.csv')"
   ]
  },
  {
   "cell_type": "code",
   "execution_count": 3,
   "metadata": {},
   "outputs": [
    {
     "data": {
      "image/png": "[encoded data removed]",
      "text/plain": [
       "<Figure size 432x288 with 1 Axes>"
      ]
     },
     "metadata": {
      "needs_background": "light"
     },
     "output_type": "display_data"
    }
   ],
   "source": [
    "titanic_df.plot(x=\"Name\", y=['Fare'], kind='hist', color = 'green')\n",
    "plt.show()"
   ]
  },
  {
   "cell_type": "code",
   "execution_count": 6,
   "metadata": {},
   "outputs": [
    {
     "data": {
      "text/plain": [
       "([<matplotlib.patches.Wedge at 0x25fa8045b88>,\n",
       "  <matplotlib.patches.Wedge at 0x25fa8045fc8>],\n",
       " [Text(0.42095177560159885, 1.0162674857624154, 'wizards'),\n",
       "  Text(-0.4209517756015994, -1.0162674857624152, 'muggles')])"
      ]
     },
     "execution_count": 6,
     "metadata": {},
     "output_type": "execute_result"
    },
    {
     "data": {
      "image/png": "[encoded data removed]",
      "text/plain": [
       "<Figure size 432x288 with 1 Axes>"
      ]
     },
     "metadata": {},
     "output_type": "display_data"
    }
   ],
   "source": [
    "slices = [30, 50]\n",
    "labels = ['wizards', 'muggles']\n",
    "\n",
    "plt.pie(slices, labels = labels)"
   ]
  },
  {
   "cell_type": "code",
   "execution_count": null,
   "metadata": {},
   "outputs": [],
   "source": []
  }
 ],
 "metadata": {
  "kernelspec": {
   "display_name": "Python 3",
   "language": "python",
   "name": "python3"
  },
  "language_info": {
   "codemirror_mode": {
    "name": "ipython",
    "version": 3
   },
   "file_extension": ".py",
   "mimetype": "text/x-python",
   "name": "python",
   "nbconvert_exporter": "python",
   "pygments_lexer": "ipython3",
   "version": "3.7.4"
  }
 },
 "nbformat": 4,
 "nbformat_minor": 2
}
